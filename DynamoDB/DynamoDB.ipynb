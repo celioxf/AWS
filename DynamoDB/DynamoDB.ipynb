{
 "cells": [
  {
   "cell_type": "markdown",
   "id": "883dcf4e",
   "metadata": {},
   "source": [
    "# DynamoDB\n",
    "\n",
    "DynamoDB is a managed No-SQL database made available by AWS. While [it's not as popular as MongoDB or Apache Cassandra](https://db-engines.com/en/ranking), it has the advantage of being [free-tier-eligible in the Amazon Cloud](https://aws.amazon.com/de/free/?nc2=h_ql_pr_ft&all-free-tier.sort-by=item.additionalFields.SortRank&all-free-tier.sort-order=asc&awsf.Free%20Tier%20Types=*all&awsf.Free%20Tier%20Categories=categories%23databases)\n",
    "\n",
    "*Note: Amazon Keyspaces is also free-tier-eligible, but only for three months. Also, at the time of writing this file, the support of the boto3 library for DynamoDB seems better than the one for keyspaces(Cassandra)*\n",
    "\n",
    "Since it's a No-SQL database, we can store unstructured data without worrying about enforcing a fixed schema. \n",
    "\n",
    "# Creating the DynamoDB Table\n",
    "\n",
    "After logging in to the AWS account, we just have to click on \"create table\". We will then be prompted to input a table name, the partition key and sort key.\n",
    "\n",
    "![dynamo_table](DynamoDB/dynamo_create_table.png)\n",
    "\n",
    "\n",
    "**What is this ?**\n",
    "\n",
    "1) **Table Name:** the table is the largest object we have in DynamoDb. It'll contain whichever elements we need to store. For now, we will call it test.\n",
    "\n",
    "2) **Partition Key:** in a simplified way, a partition is a small piece of a table containing similar data. This concept is not exclusive of DynamoDB and what dynamo does is basically use the values in this key to group items and retrieve them faster.\n",
    "\n",
    "3) **Sort Key:** this is optional at this point. Depending on the entity we will store in the table, we might need a sort key to group all elements of the entity together. To explain this, a [picture](https://aws.amazon.com/de/blogs/database/choosing-the-right-dynamodb-partition-key/) is better than words:\n",
    "\n",
    "![db_partition](DynamoDB/dynamo_partition.png)\n",
    "\n",
    "We will leave the sort key empty for now.\n",
    "\n",
    "# Database Created\n",
    "\n",
    "And that was it. As I mentioned, the beauty of working with no sql is that we don't have to worry about any schema for the data. We just need to have minimal knowledge of the data in order to tell the database what makes an element in the table unique.\n",
    "\n",
    "# Communication with the Database\n",
    "\n",
    "There are a couple of ways to interact with the database. Some of them that I'd like to show here are:\n",
    "\n",
    "1) Manually via the AWS Management Console\n",
    "\n",
    "2) Via the PartiQL Editor in AWS\n",
    "\n",
    "3) Boto3\n",
    "\n",
    "# Management Console\n",
    "\n",
    "We can now select the table we just created. This will show a detailled menu.\n",
    "\n",
    "![dynamo_table](DynamoDB/dynamo_table_small.png)\n",
    "\n",
    "By clicking on \"Tabelle erkunden\" or \"explore table\", we finally see the option to manually insert the elements (\"Element erstellen\")\n",
    "\n",
    "![dynamo_iteam](DynamoDB/dynamo_item.png)\n",
    "\n",
    "Now we can manually input the data. Notice that we have some \"main\" attributes (first name, second name, email and additional info) and some secondary information stored inside \"additional info\". This is useful, for example, if a client must insert first name, last name and email in order to subscribe to a given service, but is not forced to give any more information, event though he might, if he wants to.\n",
    "\n",
    "![dynamo_manual](DynamoDB/dynamo_manual.png)\n",
    "\n",
    "# PartiQL-Editor\n",
    "\n",
    "Now that we have an element in our test table, we can take a look at the PartiQL to monitor if everything is alright (of course, we can also click our way through this with the tools in the management console).\n",
    "\n",
    "![dynamo_partiql](DynamoDB/dynamo_partiql.png)\n",
    "\n",
    "In many ways, PartiQL is similar to SQL. So the \"SELECT * FROM test\" will work fine here. For more information on PartiQL, check [this page](https://partiql.org/).\n",
    "\n",
    "The result outputed as a table looks like this:\n",
    "\n",
    "![dynamo_partiql_result](DynamoDB/dynamo_partiql_result.png)\n",
    "\n",
    "The only element we have in the table so far was returned, so everything worked out fine. \n",
    "\n",
    "# Boto 3\n",
    "\n",
    "While manually inserting the data and the PartiQL are interesting to get familiar with the database, a great deal of the interaction of the database will happen through an application. To demonstrate how a script can interact with the database, we can use the library boto3.\n",
    "\n",
    "However, we in order to access the DynamoDB, we need to generate the aws credentials. For this, we have to create a User Group in the AWS IAM Role.\n",
    "\n",
    "![dynamo_iam](DynamoDB/dynamo_iam.png)\n",
    "\n",
    "Creating a new user will generate the credentials. We have to use them to connect to the database."
   ]
  },
  {
   "cell_type": "markdown",
   "id": "c8a79488",
   "metadata": {},
   "source": [
    "**Getting Items**"
   ]
  },
  {
   "cell_type": "code",
   "execution_count": 69,
   "id": "487c00ce",
   "metadata": {},
   "outputs": [
    {
     "data": {
      "text/plain": [
       "{'additional_info': {'zip': Decimal('123456'),\n",
       "  'favorite color': 'blue',\n",
       "  'address': 'Auf dem Holzweg 1',\n",
       "  'phone': '+49 1234 5678900'},\n",
       " 'last_name': 'User',\n",
       " 'id': Decimal('1'),\n",
       " 'email': 'test.user@web.com',\n",
       " 'first_name': 'Test'}"
      ]
     },
     "execution_count": 69,
     "metadata": {},
     "output_type": "execute_result"
    }
   ],
   "source": [
    "import boto3\n",
    "import pandas as pd\n",
    "import json\n",
    "\n",
    "# You might want to store your credentials in a better place than I did for example\n",
    "# Here we just use pandas as a quick way to read the credentials file and load it to a dict.\n",
    "# This will allow us to easily pass the arguments we need to access the DynamoDB\n",
    "credentials = pd.read_csv(r\"C:\\Users\\celio.picano\\AWS\\credentials_dynamo.csv\").to_dict(\"records\")[0]\n",
    "\n",
    "# Creating the Connection\n",
    "dynamodb = boto3.resource(\"dynamodb\", aws_access_key_id = credentials[\"Access key ID\"],\n",
    "                                      aws_secret_access_key = credentials[\"Secret access key\"],\n",
    "                                      region_name = \"eu-central-1\")\n",
    "\n",
    "# Fetching Results\n",
    "dynamodb.Table(\"test\").get_item(Key={\"id\":1})[\"Item\"]"
   ]
  },
  {
   "cell_type": "markdown",
   "id": "aff15f0a",
   "metadata": {},
   "source": [
    "**Putting Items**"
   ]
  },
  {
   "cell_type": "code",
   "execution_count": 72,
   "id": "cbdb5084",
   "metadata": {},
   "outputs": [
    {
     "data": {
      "text/plain": [
       "{'ResponseMetadata': {'RequestId': 'RL9LV20BDDU5UK94ASGSGK8IORVV4KQNSO5AEMVJF66Q9ASUAAJG',\n",
       "  'HTTPStatusCode': 200,\n",
       "  'HTTPHeaders': {'server': 'Server',\n",
       "   'date': 'Fri, 11 Mar 2022 11:49:31 GMT',\n",
       "   'content-type': 'application/x-amz-json-1.0',\n",
       "   'content-length': '2',\n",
       "   'connection': 'keep-alive',\n",
       "   'x-amzn-requestid': 'RL9LV20BDDU5UK94ASGSGK8IORVV4KQNSO5AEMVJF66Q9ASUAAJG',\n",
       "   'x-amz-crc32': '2745614147'},\n",
       "  'RetryAttempts': 0}}"
      ]
     },
     "execution_count": 72,
     "metadata": {},
     "output_type": "execute_result"
    }
   ],
   "source": [
    "dynamodb.Table(\"test\").put_item(Item = {\"id\":2,\n",
    "                                \"first_name\":\"Another\",\n",
    "                                \"last_name\":\"Test\",\n",
    "                                \"additional_info\": {\"favorite color\":\"green\"}})"
   ]
  },
  {
   "cell_type": "markdown",
   "id": "00804d9d",
   "metadata": {},
   "source": [
    "# Checking Results\n",
    "\n",
    "To see if we could successfully insert a new item, we can scan all the elements in the table:"
   ]
  },
  {
   "cell_type": "code",
   "execution_count": 77,
   "id": "71557f4d",
   "metadata": {},
   "outputs": [
    {
     "data": {
      "text/plain": [
       "[{'additional_info': {'favorite color': 'green'},\n",
       "  'last_name': 'Test',\n",
       "  'id': Decimal('2'),\n",
       "  'first_name': 'Another'},\n",
       " {'additional_info': {'zip': Decimal('123456'),\n",
       "   'favorite color': 'blue',\n",
       "   'address': 'Auf dem Holzweg 1',\n",
       "   'phone': '+49 1234 5678900'},\n",
       "  'last_name': 'User',\n",
       "  'id': Decimal('1'),\n",
       "  'email': 'test.user@web.com',\n",
       "  'first_name': 'Test'}]"
      ]
     },
     "execution_count": 77,
     "metadata": {},
     "output_type": "execute_result"
    }
   ],
   "source": [
    "dynamodb.Table(\"test\").scan()[\"Items\"]"
   ]
  },
  {
   "cell_type": "markdown",
   "id": "f1f2c090",
   "metadata": {},
   "source": [
    "It worked!\n",
    "\n",
    "# Unstructured Data\n",
    "\n",
    "The cool thing about working with No-SQL, as mentioned, is that we don't have to worry about data structures. DynamoDB allows us to insert items \"on the fly\" in a complete different structure (as long as the id remains unique)."
   ]
  },
  {
   "cell_type": "code",
   "execution_count": 78,
   "id": "4788ff39",
   "metadata": {},
   "outputs": [
    {
     "data": {
      "text/plain": [
       "{'ResponseMetadata': {'RequestId': 'QNUH6MBOIHQ351TBEJMCI3MAA7VV4KQNSO5AEMVJF66Q9ASUAAJG',\n",
       "  'HTTPStatusCode': 200,\n",
       "  'HTTPHeaders': {'server': 'Server',\n",
       "   'date': 'Fri, 11 Mar 2022 11:54:41 GMT',\n",
       "   'content-type': 'application/x-amz-json-1.0',\n",
       "   'content-length': '2',\n",
       "   'connection': 'keep-alive',\n",
       "   'x-amzn-requestid': 'QNUH6MBOIHQ351TBEJMCI3MAA7VV4KQNSO5AEMVJF66Q9ASUAAJG',\n",
       "   'x-amz-crc32': '2745614147'},\n",
       "  'RetryAttempts': 0}}"
      ]
     },
     "execution_count": 78,
     "metadata": {},
     "output_type": "execute_result"
    }
   ],
   "source": [
    "dynamodb.Table(\"test\").put_item(Item = {\"id\":99,\n",
    "                                       \"age\":27,\n",
    "                                       \"profession\":\"Data Engineer\"}) # Item with a completely different structure"
   ]
  },
  {
   "cell_type": "markdown",
   "id": "522f4b5f",
   "metadata": {},
   "source": [
    "**Checking Results**"
   ]
  },
  {
   "cell_type": "code",
   "execution_count": 82,
   "id": "c10b697a",
   "metadata": {},
   "outputs": [
    {
     "name": "stdout",
     "output_type": "stream",
     "text": [
      "{'additional_info': {'favorite color': 'green'}, 'last_name': 'Test', 'id': Decimal('2'), 'first_name': 'Another'}\n",
      "{'additional_info': {'zip': Decimal('123456'), 'favorite color': 'blue', 'address': 'Auf dem Holzweg 1', 'phone': '+49 1234 5678900'}, 'last_name': 'User', 'id': Decimal('1'), 'email': 'test.user@web.com', 'first_name': 'Test'}\n",
      "{'profession': 'Data Engineer', 'id': Decimal('99'), 'age': Decimal('27')}\n"
     ]
    }
   ],
   "source": [
    "for i in dynamodb.Table(\"test\").scan()[\"Items\"]:\n",
    "    print(i)"
   ]
  },
  {
   "cell_type": "markdown",
   "id": "3a3267c6",
   "metadata": {},
   "source": [
    "# Conclusion\n",
    "\n",
    "So, this was a very small project to present some features of Amazon DynamoDB and NoSQL. Working with unstructured data can be tricky, because it can quickly become a mess if there is no metadata management or active usage of the data. However, data does not stop growing in size and type variety, so it's nice to have tools like DynamoDB that can help us accomodate this \"ever-changing\" data and responde to business needs."
   ]
  }
 ],
 "metadata": {
  "kernelspec": {
   "display_name": "Python 3 (ipykernel)",
   "language": "python",
   "name": "python3"
  },
  "language_info": {
   "codemirror_mode": {
    "name": "ipython",
    "version": 3
   },
   "file_extension": ".py",
   "mimetype": "text/x-python",
   "name": "python",
   "nbconvert_exporter": "python",
   "pygments_lexer": "ipython3",
   "version": "3.8.5"
  }
 },
 "nbformat": 4,
 "nbformat_minor": 5
}
